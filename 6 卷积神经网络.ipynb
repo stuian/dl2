{
 "cells": [
  {
   "cell_type": "markdown",
   "id": "2806a2b9",
   "metadata": {},
   "source": [
    "# 卷积神经网络"
   ]
  },
  {
   "cell_type": "markdown",
   "id": "f01afa21",
   "metadata": {},
   "source": [
    "## 从全连接到卷积"
   ]
  },
  {
   "cell_type": "markdown",
   "id": "8670fc24",
   "metadata": {},
   "source": [
    "想象一张100万像素的图片，输入特征则是100万维，即使隐藏层单元为100，从100万降到100维，期间的权重参数达到100万x100级别，运算非常大。"
   ]
  }
 ],
 "metadata": {
  "kernelspec": {
   "display_name": "Python 3",
   "language": "python",
   "name": "python3"
  },
  "language_info": {
   "codemirror_mode": {
    "name": "ipython",
    "version": 3
   },
   "file_extension": ".py",
   "mimetype": "text/x-python",
   "name": "python",
   "nbconvert_exporter": "python",
   "pygments_lexer": "ipython3",
   "version": "3.8.8"
  },
  "toc": {
   "base_numbering": 1,
   "nav_menu": {},
   "number_sections": true,
   "sideBar": true,
   "skip_h1_title": false,
   "title_cell": "Table of Contents",
   "title_sidebar": "Contents",
   "toc_cell": false,
   "toc_position": {},
   "toc_section_display": true,
   "toc_window_display": false
  }
 },
 "nbformat": 4,
 "nbformat_minor": 5
}
